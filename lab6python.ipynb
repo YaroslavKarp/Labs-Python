{
  "nbformat": 4,
  "nbformat_minor": 0,
  "metadata": {
    "colab": {
      "provenance": [],
      "authorship_tag": "ABX9TyPQ5VvbIs/RdqVQHDK6n1Fj",
      "include_colab_link": true
    },
    "kernelspec": {
      "name": "python3",
      "display_name": "Python 3"
    },
    "language_info": {
      "name": "python"
    }
  },
  "cells": [
    {
      "cell_type": "markdown",
      "metadata": {
        "id": "view-in-github",
        "colab_type": "text"
      },
      "source": [
        "<a href=\"https://colab.research.google.com/github/YaroslavKarp/Labs-Python/blob/main/lab6python.ipynb\" target=\"_parent\"><img src=\"https://colab.research.google.com/assets/colab-badge.svg\" alt=\"Open In Colab\"/></a>"
      ]
    },
    {
      "cell_type": "code",
      "execution_count": null,
      "metadata": {
        "colab": {
          "base_uri": "https://localhost:8080/"
        },
        "id": "gKXsA2BRgWwV",
        "outputId": "dfdea430-86ab-4e95-ea56-8c28c6d7cb3b"
      },
      "outputs": [
        {
          "output_type": "stream",
          "name": "stdout",
          "text": [
            "HTML файл успішно створено.\n"
          ]
        }
      ],
      "source": [
        "html_content = \"\"\"\n",
        "<!DOCTYPE html>\n",
        "<html lang=\"uk\">\n",
        "<head>\n",
        "    <meta charset=\"UTF-8\">\n",
        "    <meta name=\"viewport\" content=\"width=device-width, initial-scale=1.0\">\n",
        "    <title>Йорданія</title>\n",
        "    <style>\n",
        "        h1 { color: green; }\n",
        "        h2, h3 { color: darkblue; }\n",
        "        p, li { font-size: 16px; }\n",
        "        table { width: 100%; border-collapse: collapse; margin-top: 20px; }\n",
        "        table, th, td { border: 1px solid black; padding: 8px; text-align: left; }\n",
        "        img { width: 100%; max-width: 600px; height: auto; margin-top: 20px; }\n",
        "    </style>\n",
        "</head>\n",
        "<body>\n",
        "    <h1>Йорданія</h1>\n",
        "    <p><strong>Йорданія</strong> - офіційно <em>Йорданське Хашимітське Королівство</em>, є державою в Західній Азії. Вона розташована на схід від річки Йордан і межує з Ізраїлем та Палестиною, Сирією, Іраком і Саудівською Аравією.</p>\n",
        "\n",
        "    <h2>Основна інформація</h2>\n",
        "    <ul>\n",
        "        <li><strong>Площа</strong>: 89,342 км²</li>\n",
        "        <li><strong>Населення</strong>: 10,3 млн осіб</li>\n",
        "        <li><strong>Державний устрій</strong>: Конституційна монархія</li>\n",
        "        <li><strong>Столиця</strong>: Амман</li>\n",
        "    </ul>\n",
        "\n",
        "    <h2>Визначні особи:</h2>\n",
        "    <ul>\n",
        "        <li>Король <strong>Абдалла ІІ</strong> – нинішній король Йорданії</li>\n",
        "        <li>Королева <strong>Ранія Аль-Абдулла</strong> – перша леді, відома своїми гуманітарними зусиллями</li>\n",
        "    </ul>\n",
        "\n",
        "    <h3>Визначні пам'ятки:</h3>\n",
        "    <ul>\n",
        "        <li><strong>Петра</strong> – стародавнє місто, яке є одним з нових семи чудес світу</li>\n",
        "        <li><strong>Мертве море</strong> – найнижча точка на поверхні Землі, відоме своєю високою солоністю</li>\n",
        "    </ul>\n",
        "\n",
        "    <h3>Природа</h3>\n",
        "    <p>Йорданія відома своїми різноманітними природними ландшафтами, такими як:</p>\n",
        "    <ul>\n",
        "        <li>Пустеля Ваді Рам</li>\n",
        "        <li>Долина річки Йордан</li>\n",
        "        <li>Регіон Акаба на узбережжі Червоного моря</li>\n",
        "    </ul>\n",
        "\n",
        "    <h2>Таблиця даних</h2>\n",
        "    <table>\n",
        "        <tr>\n",
        "            <th>Показник</th>\n",
        "            <th>Значення</th>\n",
        "        </tr>\n",
        "        <tr>\n",
        "            <td>Площа</td>\n",
        "            <td>89,342 км²</td>\n",
        "        </tr>\n",
        "        <tr>\n",
        "            <td>Населення</td>\n",
        "            <td>10,3 млн</td>\n",
        "        </tr>\n",
        "        <tr>\n",
        "            <td>Державний устрій</td>\n",
        "            <td>Монархія</td>\n",
        "        </tr>\n",
        "        <tr>\n",
        "            <td>Столиця</td>\n",
        "            <td>Амман</td>\n",
        "        </tr>\n",
        "    </table>\n",
        "\n",
        "    <h2>Прапор Йорданії</h2>\n",
        "    <svg xmlns=\"http://www.w3.org/2000/svg\" viewBox=\"0 0 3 2\" width=\"300\" height=\"200\">\n",
        "        <rect width=\"3\" height=\"2\" fill=\"#000000\"/>\n",
        "        <rect width=\"3\" height=\"1.33\" fill=\"#ffffff\"/>\n",
        "        <rect width=\"3\" height=\"0.66\" fill=\"#007a3d\"/>\n",
        "        <polygon points=\"0,0 1,1 0,2\" fill=\"#ce1126\"/>\n",
        "        <polygon points=\"0.14,1 0.5,0.75 0.86,1 0.5,1.25\" fill=\"#ffffff\"/>\n",
        "    </svg>\n",
        "\n",
        "    <h2>Мертве море</h2>\n",
        "    <img src=\"https://upload.wikimedia.org/wikipedia/commons/thumb/e/ea/Dead_Sea%2C_Jordan_01.jpg/600px-Dead_Sea%2C_Jordan_01.jpg\" alt=\"Мертве море\">\n",
        "\n",
        "    <h2>Посилання</h2>\n",
        "    <p>Для детальнішої інформації, перейдіть за <a href=\"https://uk.wikipedia.org/wiki/%D0%99%D0%BE%D1%80%D0%B4%D0%B0%D0%BD%D1%96%D1%8F\">цим посиланням</a>.</p>\n",
        "</body>\n",
        "</html>\n",
        "\"\"\"\n",
        "\n",
        "# Збереження контенту у файл\n",
        "with open(\"jordan.html\", \"w\", encoding=\"utf-8\") as file:\n",
        "    file.write(html_content)\n",
        "\n",
        "print(\"HTML файл успішно створено.\")\n"
      ]
    },
    {
      "cell_type": "code",
      "source": [
        "def task_6(a, b):\n",
        "    if not (isinstance(a, int) and isinstance(b, int)):\n",
        "        return \"Помилка. Числа мають бути цілими.\"\n",
        "\n",
        "    if a > b:\n",
        "        return \"Помилка. a має бути меншим або рівним b.\"\n",
        "\n",
        "    primes = []\n",
        "\n",
        "    for num in range(a, b+1):\n",
        "        if num > 1:\n",
        "            is_prime = True\n",
        "            for i in range(2, int(num ** 0.5) + 1):\n",
        "                if num % i == 0:\n",
        "                    is_prime = False\n",
        "                    break\n",
        "            if is_prime:\n",
        "                primes.append(num)\n",
        "\n",
        "    return primes\n",
        "\n",
        "\n",
        "print(task_6(3, 15))\n",
        "print(task_6(6, 24))"
      ],
      "metadata": {
        "colab": {
          "base_uri": "https://localhost:8080/"
        },
        "id": "RtvBK6HWhNT8",
        "outputId": "96a981dc-c351-4dcd-f411-046b5c5ca0f5"
      },
      "execution_count": null,
      "outputs": [
        {
          "output_type": "stream",
          "name": "stdout",
          "text": [
            "[3, 5, 7, 11, 13]\n",
            "[7, 11, 13, 17, 19, 23]\n"
          ]
        }
      ]
    }
  ]
}