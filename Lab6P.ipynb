{
 "cells": [
  {
   "cell_type": "markdown",
   "metadata": {},
   "source": [
    "# Норвегія\n",
    "\n",
    "<div style=\"border: 2px solid black; padding: 10px;\">\n",
    "\n",
    "## Загальна інформація\n",
    "\n",
    "- **Площа**: 385,207 км²\n",
    "- **Населення**: приблизно 5.4 мільйона осіб\n",
    "- **Державний устрій**: Конституційна монархія\n",
    "\n",
    "</div>\n",
    "\n",
    "<div style=\"border: 2px solid black; padding: 10px; margin-top: 10px;\">\n",
    "\n",
    "## Видатні персоналії\n",
    "1. **Генрік Ібсен** — норвезький драматург і поет.\n",
    "2. **Едвард Гріг** — композитор, один із найвідоміших представників музичної культури Норвегії.\n",
    "\n",
    "</div>\n",
    "\n",
    "<div style=\"border: 2px solid black; padding: 10px; margin-top: 10px;\">\n",
    "\n",
    "## Пам'ятки культури та природи\n",
    "\n",
    "- _Фьорди_ — природні утворення, відомі своєю мальовничістю.\n",
    "- **Бригген** — історичний район у місті Берген.\n",
    "- _Національні парки_ — захищені території з унікальними ландшафтами і біорізноманіттям.\n",
    "\n",
    "</div>\n",
    "\n",
    "### Таблиця даних\n",
    "\n",
    "<div style=\"border: 2px solid black; padding: 10px; margin-top: 10px;\">\n",
    "    \n",
    "| Показник           | Значення              |\n",
    "|--------------------|-----------------------|\n",
    "| **Площа**          | 385,207 км²           |\n",
    "| **Населення**      | 5.4 мільйона          |\n",
    "| **Державний устрій** | Конституційна монархія |\n",
    "| **Офіційна мова**  | Норвезька             |\n",
    "\n",
    "</div>\n",
    "\n",
    "### Зображення природи Норвегії\n",
    "[![Фіорди Норвегії](https://nordictravel.ua/image/cache/data/blog/norway/norway_climate/geirangerfjord_norway-1140x761.32173913043.webp)](https://nordictravel.ua/image/cache/data/blog/norway/norway_climate/geirangerfjord_norway-1140x761.32173913043.webp)\n",
    "\n",
    "### Посилання\n",
    "\n",
    "[Офіційний сайт Норвегії](https://www.norway.no/)\n",
    "\n",
    "## Прапор Норвегії\n",
    "\n",
    "<div style=\"border: 2px solid black; padding: 10px; width: 200px; margin-top: 10px;\">\n",
    "<svg width=\"200\" height=\"150\">\n",
    "  <rect width=\"200\" height=\"150\" fill=\"red\"/>\n",
    "  <rect width=\"40\" height=\"150\" x=\"70\" fill=\"white\"/>\n",
    "  <rect width=\"200\" height=\"40\" y=\"55\" fill=\"white\"/>\n",
    "  <rect width=\"20\" height=\"150\" x=\"80\" fill=\"blue\"/>\n",
    "  <rect width=\"200\" height=\"20\" y=\"65\" fill=\"blue\"/>\n",
    "</svg>\n",
    "</div>\n"
   ]
  },
  {
   "cell_type": "code",
   "execution_count": null,
   "metadata": {},
   "outputs": [
    {
     "name": "stdout",
     "output_type": "stream",
     "text": [
      "Усі тести пройдено успішно.\n"
     ]
    }
   ],
   "source": [
    "import math\n",
    "\n",
    "def task_10(N):\n",
    "    \n",
    "    for a in range(1, int(math.sqrt(N)) + 1):\n",
    "        b_square = N - a**2\n",
    "        b = int(math.sqrt(b_square))\n",
    "        \n",
    "        if b > 0 and b**2 == b_square:\n",
    "            return f\"{a}^2 + {b}^2 = {N}\"\n",
    "    \n",
    "    return f\"Число {N} не можна представити квадратами цілих чисел\"\n",
    "\n",
    "\n",
    "assert task_10(45) == \"3^2 + 6^2 = 45\", \"Test case 1 failed\"\n",
    "assert task_10(21) == \"Не можна представити квадратами цілих чисел\", \"Test case 2 failed\"\n",
    "assert task_10(2) == \"1^2 + 1^2 = 2\", \"Test case 3 failed\"\n",
    "print(\"Усі тести пройдено успішно.\")\n"
   ]
  }
 ],
 "metadata": {
  "kernelspec": {
   "display_name": "Python 3",
   "language": "python",
   "name": "python3"
  },
  "language_info": {
   "codemirror_mode": {
    "name": "ipython",
    "version": 3
   },
   "file_extension": ".py",
   "mimetype": "text/x-python",
   "name": "python",
   "nbconvert_exporter": "python",
   "pygments_lexer": "ipython3",
   "version": "3.12.6"
  }
 },
 "nbformat": 4,
 "nbformat_minor": 2
}
